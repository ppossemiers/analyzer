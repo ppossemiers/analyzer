{
 "cells": [
  {
   "cell_type": "code",
   "execution_count": 1,
   "metadata": {
    "collapsed": true
   },
   "outputs": [],
   "source": [
    "# variables\n",
    "\n",
    "USER = 'ppossemiers'\n",
    "BASE_PATH = '../data/analyzer/'\n",
    "REPO_PATH = 'netty-4.1'\n",
    "#REPO_PATH = 'test'\n",
    "STOP_LINES = ['*', '//', 'import', 'package', '{', '}', '@']\n",
    "STOP_WORDS = ['abstract','continue','for','new','switch','assert','default','goto','synchronized',\n",
    "            'boolean','do','if','private','this','break','double','implements','protected','throw',\n",
    "            'byte','else','public','throws','case','enum','instanceof','return','transient',\n",
    "            'catch','extends','int','short','try','char','final','interface','static','void',\n",
    "            'class','finally','long','strictfp','volatile','const','float','native','super','while'\n",
    "            'true','false','null']"
   ]
  },
  {
   "cell_type": "code",
   "execution_count": 2,
   "metadata": {
    "collapsed": false
   },
   "outputs": [],
   "source": [
    "# imports and directives\n",
    "\n",
    "%matplotlib inline\n",
    "from pyspark import SparkContext\n",
    "import os, re, requests, zipfile, json\n",
    "from StringIO import StringIO\n",
    "import operator\n",
    "from pyspark.ml.feature import Tokenizer, RegexTokenizer, HashingTF, IDF\n",
    "import matplotlib.pyplot as plt\n",
    "import numpy as np"
   ]
  },
  {
   "cell_type": "code",
   "execution_count": null,
   "metadata": {
    "collapsed": true
   },
   "outputs": [],
   "source": [
    "search_url = 'https://api.github.com/search/repositories?q=' + 'user:' + USER\n",
    "result = requests.get(search_url)\n",
    "repos = json.loads(result.content)['items']\n",
    "\n",
    "for repo in repos:\n",
    "    url = 'https://github.com/' + repo['full_name'] + '/archive/master.zip'\n",
    "    dir_name = BASE_PATH + repo['full_name'] + '/'\n",
    "    if not os.path.exists(dir_name):\n",
    "        os.makedirs(dir_name)\n",
    "\n",
    "    zip = requests.get(url)\n",
    "    zipdata = StringIO()\n",
    "    zipdata.write(zip.content)\n",
    "\n",
    "    with zipfile.ZipFile(zipdata, 'r') as z:\n",
    "        z.extractall(dir_name)"
   ]
  },
  {
   "cell_type": "code",
   "execution_count": 5,
   "metadata": {
    "collapsed": false
   },
   "outputs": [],
   "source": [
    "def all_files(directory):\n",
    "    for path, dirs, files in os.walk(directory):\n",
    "        for f in files:\n",
    "            yield os.path.join(path, f)\n",
    "\n",
    "def sanitize(contents):\n",
    "    lines = contents.split('\\n')\n",
    "\n",
    "    # remove stop lines\n",
    "    for stop_line in STOP_LINES:\n",
    "        lines = [line.lower().lstrip().replace(';', '') for line in lines if stop_line not in line and line <> '']\n",
    "\n",
    "    # remove stop words\n",
    "    for stop_word in STOP_WORDS:\n",
    "        # replace() doesn't work because variables get mangled\n",
    "        lines = [re.sub(r'\\b%s\\b' % stop_word, '', line) for line in lines]\n",
    "    \n",
    "    # remove operators\n",
    "    lines = [line.replace('=', '').replace('+', '')\n",
    "             .replace('-', '').replace('>', '')\n",
    "             .replace('<', '').replace('|', '')\n",
    "             .replace('%', '') for line in lines]\n",
    "    \n",
    "    # join all lines into one string\n",
    "    return ' '.join(lines)\n",
    "\n",
    "def count_dependencies(src):\n",
    "    names, codes = zip(*src)\n",
    "    deps = {e : 0 for i, e in enumerate(names)}\n",
    "\n",
    "    for name in names:\n",
    "        for code in codes:\n",
    "            if name in code:\n",
    "                deps[name] += 1\n",
    "    \n",
    "    # sort by amount of references\n",
    "    #return sorted(deps.items(), key=operator.itemgetter(1), reverse=True)\n",
    "    return {k: v for k, v in deps.iteritems() if v > 1}"
   ]
  },
  {
   "cell_type": "code",
   "execution_count": 8,
   "metadata": {
    "collapsed": false
   },
   "outputs": [
    {
     "data": {
      "image/png": "[encoded data removed]",
      "text/plain": [
       "<matplotlib.figure.Figure at 0x113095f10>"
      ]
     },
     "metadata": {},
     "output_type": "display_data"
    }
   ],
   "source": [
    "joined = []\n",
    "# get all java source files\n",
    "src_files = [f for f in all_files(BASE_PATH + REPO_PATH) if f.endswith('.java')]\n",
    "\n",
    "for n in src_files:\n",
    "    # create tuple of classname and contents of file\n",
    "    # plain read is used to avoid broadcasting the spark context\n",
    "    joined.append((os.path.basename(n).split('.')[0], open(n, 'r').read()))\n",
    "\n",
    "deps = count_dependencies(joined)\n",
    "\n",
    "# show top referenced classes\n",
    "refs = sorted(deps.values(), reverse=True)[:25]\n",
    "classes = sorted(deps, key=deps.get, reverse=True)[:25]\n",
    "y_pos = np.arange(len(classes))\n",
    "\n",
    "fig = plt.figure(figsize=(10, 7))\n",
    "fig.suptitle('Top 25 referenced classes', fontsize=15)\n",
    "ax = fig.add_subplot(111)\n",
    "ax.barh(y_pos, refs, align='center', alpha=0.4, color='darksalmon')\n",
    "#fig.yticks(y_pos, classes)\n",
    "ax.set_yticklabels(classes)\n",
    "ax.set_xlabel('References')\n",
    "\n",
    "plt.show()"
   ]
  },
  {
   "cell_type": "code",
   "execution_count": null,
   "metadata": {
    "collapsed": true
   },
   "outputs": [],
   "source": [
    "plt.barh(y_pos, refs, align='center', alpha=0.4, color='tomato')\n",
    "plt.yticks(y_pos, classes)\n",
    "plt.xlabel('References')\n",
    "plt.title('Top 25 referenced classes')"
   ]
  },
  {
   "cell_type": "code",
   "execution_count": null,
   "metadata": {
    "collapsed": true
   },
   "outputs": [],
   "source": [
    "joined_rdd = sc.parallelize(joined)\n",
    "# make tuple of (class_name, sanitized code) for each source file\n",
    "sanitized = joined_rdd.map(lambda tup: (tup[0], sanitize(tup[1])))\n",
    "\n",
    "sanitized_df = sqlContext.createDataFrame(sanitized, ['label', 'code'])\n",
    "tokenizer = Tokenizer(inputCol='code', outputCol='words')\n",
    "words_df = tokenizer.transform(sanitized_df)\n",
    "\n",
    "#for words_label in words_df.select('words', 'label').take(2):\n",
    "#    print(words_label)\n",
    "\n",
    "hashingTF = HashingTF(inputCol='words', outputCol='rawFeatures', numFeatures=5)\n",
    "featurizedData = hashingTF.transform(words_df)\n",
    "\n",
    "idf = IDF(inputCol='rawFeatures', outputCol='features')\n",
    "idfModel = idf.fit(featurizedData)\n",
    "rescaledData = idfModel.transform(featurizedData)\n",
    "\n",
    "for features_label in rescaledData.select('features', 'label').take(3):\n",
    "    print(features_label)"
   ]
  },
  {
   "cell_type": "code",
   "execution_count": null,
   "metadata": {
    "collapsed": true
   },
   "outputs": [],
   "source": [
    "import scala.collection.mutable\n",
    "import org.apache.spark.mllib.clustering.LDA\n",
    "import org.apache.spark.mllib.linalg.{Vector, Vectors}\n",
    "import org.apache.spark.rdd.RDD\n",
    "\n",
    "// Load documents from text files, 1 document per file\n",
    "val corpus: RDD[String] = sc.wholeTextFiles(\"docs/*.md\").map(_._2)\n",
    "\n",
    "// Split each document into a sequence of terms (words)\n",
    "val tokenized: RDD[Seq[String]] =\n",
    "  corpus.map(_.toLowerCase.split(\"\\\\s\")).map(_.filter(_.length > 3).filter(_.forall(java.lang.Character.isLetter)))\n",
    "\n",
    "// Choose the vocabulary.\n",
    "//   termCounts: Sorted list of (term, termCount) pairs\n",
    "val termCounts: Array[(String, Long)] =\n",
    "  tokenized.flatMap(_.map(_ -> 1L)).reduceByKey(_ + _).collect().sortBy(-_._2)\n",
    "//   vocabArray: Chosen vocab (removing common terms)\n",
    "val numStopwords = 20\n",
    "val vocabArray: Array[String] =\n",
    "  termCounts.takeRight(termCounts.size - numStopwords).map(_._1)\n",
    "//   vocab: Map term -> term index\n",
    "val vocab: Map[String, Int] = vocabArray.zipWithIndex.toMap\n",
    "\n",
    "// Convert documents into term count vectors\n",
    "val documents: RDD[(Long, Vector)] =\n",
    "  tokenized.zipWithIndex.map { case (tokens, id) =>\n",
    "    val counts = new mutable.HashMap[Int, Double]()\n",
    "    tokens.foreach { term =>\n",
    "      if (vocab.contains(term)) {\n",
    "        val idx = vocab(term)\n",
    "        counts(idx) = counts.getOrElse(idx, 0.0) + 1.0\n",
    "      }\n",
    "    }\n",
    "    (id, Vectors.sparse(vocab.size, counts.toSeq))\n",
    "  }\n",
    "\n",
    "// Set LDA parameters\n",
    "val numTopics = 10\n",
    "val lda = new LDA().setK(numTopics).setMaxIterations(10)\n",
    "\n",
    "val ldaModel = lda.run(documents)\n",
    "val avgLogLikelihood = ldaModel.logLikelihood / documents.count()\n",
    "\n",
    "// Print topics, showing top-weighted 10 terms for each topic.\n",
    "val topicIndices = ldaModel.describeTopics(maxTermsPerTopic = 10)\n",
    "topicIndices.foreach { case (terms, termWeights) =>\n",
    "  println(\"TOPIC:\")\n",
    "  terms.zip(termWeights).foreach { case (term, weight) =>\n",
    "    println(s\"${vocabArray(term.toInt)}\\t$weight\")\n",
    "  }\n",
    "  println()\n",
    "}"
   ]
  }
 ],
 "metadata": {
  "hide_input": false,
  "kernelspec": {
   "display_name": "Python 2",
   "language": "python",
   "name": "python2"
  },
  "language_info": {
   "codemirror_mode": {
    "name": "ipython",
    "version": 2
   },
   "file_extension": ".py",
   "mimetype": "text/x-python",
   "name": "python",
   "nbconvert_exporter": "python",
   "pygments_lexer": "ipython2",
   "version": "2.7.11"
  }
 },
 "nbformat": 4,
 "nbformat_minor": 0
}
